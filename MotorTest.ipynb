{
 "cells": [
  {
   "cell_type": "code",
   "execution_count": 45,
   "metadata": {},
   "outputs": [],
   "source": [
    "import time\n",
    "import gpiozero\n",
    "import numpy as np"
   ]
  },
  {
   "cell_type": "code",
   "execution_count": 2,
   "metadata": {},
   "outputs": [],
   "source": [
    "\n",
    "class Motor:\n",
    "    def __init__(self, forward_pin, backward_pin, enable_pin):\n",
    "        \"\"\"\n",
    "        Initialise the Motor object\n",
    "        :param forward_pin: The forward pin number\n",
    "        :param backward_pin: The backward pin number\n",
    "        :param enable_pin: The enable pin number (ensure PWM)\n",
    "        \"\"\"\n",
    "        self.forward_pin = gpiozero.OutputDevice(pin=forward_pin)\n",
    "        self.backward_pin = gpiozero.OutputDevice(pin=backward_pin)\n",
    "        self.enable_pwm = gpiozero.PWMOutputDevice(pin=enable_pin, active_high=True, initial_value=0, frequency=100)\n",
    "\n",
    "    def stop(self):\n",
    "        \"\"\"\n",
    "        Stops the motors\n",
    "        \"\"\"\n",
    "        self.forward_pin.value = False\n",
    "        self.backward_pin.value = False\n",
    "        self.enable_pwm.value = 0\n",
    "\n",
    "    def forward(self, speed):\n",
    "        \"\"\"\n",
    "        Makes the motors move forward\n",
    "        :param speed: A float between 0 and 1 representing the speed of the motor\n",
    "        \"\"\"\n",
    "        self.forward_pin.value = True\n",
    "        self.enable_pwm.value = speed\n",
    "\n",
    "    def backward(self, speed):\n",
    "        \"\"\"\n",
    "        Makes the motors move backward\n",
    "        :param speed: A float between 0 and 1 representing the speed of the motor\n",
    "        \"\"\"\n",
    "        self.forward_pin.value = True\n",
    "        self.enable_pwm.value = speed\n",
    "\n",
    "    def reverse(self):\n",
    "        \"\"\"\n",
    "        Reverse the direction of the motor\n",
    "        \"\"\"\n",
    "        self.forward_pin.value = not self.backward_pin.value\n",
    "        self.backward_pin.value = not self.forward_pin.value\n",
    "\n",
    "    def is_active(self):\n",
    "        \"\"\"\n",
    "        Checks if the motor is active\n",
    "        :return: A boolean representing if the motor is active\n",
    "        \"\"\"\n",
    "        return self.enable_pwm.value > 0\n"
   ]
  },
  {
   "cell_type": "code",
   "execution_count": 3,
   "metadata": {},
   "outputs": [],
   "source": [
    "motor_l = Motor(5,6,12)\n",
    "motor_r = Motor(23,24,13)\n",
    "encoder_l = gpiozero.RotaryEncoder(a=17, b=27,max_steps=100000) \n",
    "encoder_r = gpiozero.RotaryEncoder(a=20, b=21,max_steps=100000) "
   ]
  },
  {
   "cell_type": "code",
   "execution_count": 46,
   "metadata": {},
   "outputs": [
    {
     "name": "stdout",
     "output_type": "stream",
     "text": [
      "1455\n",
      "1692\n",
      "3279\n",
      "3744\n",
      "4230\n",
      "4745\n",
      "4713\n",
      "5259\n",
      "5041\n",
      "5522\n",
      "5250\n",
      "5713\n",
      "5356\n",
      "5797\n",
      "5404\n",
      "5926\n",
      "5531\n",
      "5957\n",
      "5680\n",
      "6050\n"
     ]
    }
   ],
   "source": [
    "X = np.array(list(range(1,11)))/10\n",
    "encoder_l_arr = []\n",
    "encoder_r_arr = []\n",
    "\n",
    "for i in range(1,11):\n",
    "    encoder_l.steps = 0\n",
    "    encoder_r.steps = 0\n",
    "    motor_l.forward(i/10)\n",
    "    motor_r.forward(i/10)\n",
    "    time.sleep(5)\n",
    "    motor_l.stop()\n",
    "    motor_r.stop()\n",
    "    time.sleep(1)\n",
    "    encoder_l_arr.append(encoder_l.steps)\n",
    "    encoder_r_arr.append(encoder_r.steps)"
   ]
  },
  {
   "cell_type": "code",
   "execution_count": 48,
   "metadata": {},
   "outputs": [
    {
     "data": {
      "text/plain": [
       "Text(0, 0.5, 'Steps per 5s')"
      ]
     },
     "execution_count": 48,
     "metadata": {},
     "output_type": "execute_result"
    },
    {
     "data": {
      "image/png": "[encoded data removed]",
      "text/plain": [
       "<Figure size 432x288 with 1 Axes>"
      ]
     },
     "metadata": {
      "needs_background": "light"
     },
     "output_type": "display_data"
    }
   ],
   "source": [
    "import matplotlib.pyplot as plt\n",
    "\n",
    "plt.plot(X, encoder_l_arr)\n",
    "plt.plot(X, encoder_r_arr)\n",
    "plt.title('PWM vs Steps')\n",
    "plt.legend(['Left','Right'])\n",
    "plt.xlabel('PWM')\n",
    "plt.ylabel('Steps per 5s')"
   ]
  },
  {
   "cell_type": "code",
   "execution_count": 49,
   "metadata": {},
   "outputs": [],
   "source": [
    "trial_amount = 10\n",
    "encoder_l_arr = []\n",
    "encoder_r_arr = []\n",
    "for i in range(trial_amount):\n",
    "    encoder_l.steps = 0\n",
    "    encoder_r.steps = 0\n",
    "    motor_l.forward(1)\n",
    "    motor_r.forward(1)\n",
    "    time.sleep(5)\n",
    "    motor_l.stop()\n",
    "    motor_r.stop()\n",
    "    time.sleep(1)\n",
    "    encoder_l_arr.append(encoder_l.steps)\n",
    "    encoder_r_arr.append(encoder_r.steps)\n",
    "    "
   ]
  },
  {
   "cell_type": "code",
   "execution_count": 53,
   "metadata": {},
   "outputs": [
    {
     "name": "stdout",
     "output_type": "stream",
     "text": [
      "525.1600000000001\n",
      "1627.2400000000002\n"
     ]
    },
    {
     "data": {
      "image/png": "[encoded data removed]",
      "text/plain": [
       "<Figure size 432x288 with 1 Axes>"
      ]
     },
     "metadata": {
      "needs_background": "light"
     },
     "output_type": "display_data"
    }
   ],
   "source": [
    "plt.scatter(X, encoder_l_arr)\n",
    "plt.scatter(X, encoder_r_arr)\n",
    "plt.title('Error')\n",
    "plt.legend(['Left','Right'])\n",
    "plt.xlabel('Trial')\n",
    "plt.ylabel('Steps')\n",
    "print(np.var(encoder_l_arr))\n",
    "print(np.var(encoder_r_arr))"
   ]
  },
  {
   "cell_type": "code",
   "execution_count": 65,
   "metadata": {},
   "outputs": [],
   "source": [
    "motor_l.forward(1)\n",
    "motor_r.forward(1)\n",
    "time.sleep(0.60)\n",
    "motor_l.stop()\n",
    "motor_r.stop()"
   ]
  },
  {
   "cell_type": "code",
   "execution_count": null,
   "metadata": {},
   "outputs": [],
   "source": []
  }
 ],
 "metadata": {
  "kernelspec": {
   "display_name": "Python 3",
   "language": "python",
   "name": "python3"
  },
  "language_info": {
   "codemirror_mode": {
    "name": "ipython",
    "version": 3
   },
   "file_extension": ".py",
   "mimetype": "text/x-python",
   "name": "python",
   "nbconvert_exporter": "python",
   "pygments_lexer": "ipython3",
   "version": "3.8.10"
  }
 },
 "nbformat": 4,
 "nbformat_minor": 4
}
